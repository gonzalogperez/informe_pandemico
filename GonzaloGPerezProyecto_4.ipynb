{
  "nbformat": 4,
  "nbformat_minor": 0,
  "metadata": {
    "colab": {
      "name": "proyecto 4.ipynb",
      "provenance": []
    },
    "kernelspec": {
      "name": "python3",
      "display_name": "Python 3"
    },
    "language_info": {
      "name": "python"
    }
  },
  "cells": [
    {
      "cell_type": "markdown",
      "metadata": {
        "id": "a4KP0Qf-N_C6"
      },
      "source": [
        "# Modelando la Pandemia\n",
        "\n",
        "  En este proyecto vamos a estudiar y analizar los datos mundiales de la pandemia COVID-19 usando países modelo de distintas políticas públicas para luego interpretar otras curvas.\n",
        "\n",
        "Puedes descargar el dataset de casos totales, divididos por país [aquí.](\n",
        "https://ourworldindata.org/coronavirus-data?country=\n",
        ") Descarga los datos  formato .csv luego podrás cargarlos en el notebook usando pandas, a partir de eso selecciona los de los países que te interesan, hay un ejemplo de cómo se hace esto en este notebook. \n",
        "\n",
        "# ¿Cómo empezó la pandemia?\n",
        "\n",
        "\n",
        "  La primer parte del trabajo consiste en estudiar cómo se empieza a propagar la pandemia, luego analizaremos las medidas tomadas y su efectividad.\n",
        "\n",
        "  Al inicio de una pandemia, se estima que los contagios siguen una ley exponencial, esa es la fase de \"crecimiento exponencial\", luego hay un decaimiento dado por la inmunidad. \n",
        "\n",
        "  Los datos de casos confirmados en función del tiempo $C(t)$, pueden aproximarse con el modelo\n",
        "\n",
        "$C(t)=e^{k(t-t_0)}$\n",
        "\n",
        "donde $t_0$ es la fecha del primer contagio, y $k$ es un parámetro propio de cada enfermedad, que habla de la contagiosidad. Cuanto mayor es $k$, más grande será el número de casos confirmados dado por la expresión. $k$ depende de el tiempo que una persona enferma contagia, el nivel de infecciosidad del virus y cuántas personas que se pueden contagiar ve una persona enferma por día. Es decir, la circulación. Haciendo cuarententa, $k$ disminuye, con la circulación $k$ aumenta.\n",
        "\n",
        "  El parámetro $k$ está directamente relacionado con el $R$ del que tanto se habla en los medios. En este proyecto haremos foco en $k$, pero puedes profundizar sobre esto si quieres, empezandó por [aquí](https://es.wikipedia.org/wiki/Ritmo_reproductivo_b%C3%A1sico). \n",
        "\n",
        "  Es posible hacer un modelo completo, pero para eso es necesario utilizar ecuaciones diferenciales. Si quieres profundizar sobre eso, busca información sobre \"modelo epidemiológico SEIR\". Si quieres ver cómo funciona este modelo, puedes empezar por [aquí](http://gabgoh.github.io/COVID/index.html). En ese link está implementado el modelo SEIR (no es necesario entender las ecuaciones en este caso) y el rol que cumplen los parámetros, puedes explorar el impacto de variar $R$ y el resto de los valores para ver cómo impactan en la cirva de contagios. Ahora utilizaremos la siguiente expresión para describir únicamente la etapa de crecimiento exponencial.\n",
        "\n",
        "\n",
        "  Comienza estudiando cómo se distribuyó el $k$ inicial de la pandemia y si es posible elaborar un intervalo de confianza razonable para este valor. Para eso \n",
        "  \n",
        "  1. Elegir diez países del norte (ahí empezó la pandemia) y puedes mide el valor de $k$ inicial de la pandemia, analizando datos del primer tramo.\n",
        "\n",
        "  2. Analiza si es posible estimar la evolución mundial de la pandemia a partir de lo que obtuviste. Para esto, puedes elaborar un intervalo de confianza para $k$ a partir de los que obtuviste y así generar un modelo nuevo, basado en la distribución de $k$. Luego compara el modelo con los datos mundiales.\n",
        "\n",
        "3. Piensa qué significa que el modelo de \"bien\" o dé \"mal\" ¿qué indicadores de esto existen?. Luego discute en el informe por qué crees que dio así. Recuerda que es importante elegir bien la población de muestra. Piensa qué criterios puedes elegir para representar bien la población mundial que se contagió al inicio de la pandemia.\n",
        " \n",
        " # Evaluando estrategias\n",
        "\n",
        " Ahora que tienes una manera de obtener información de las curvas, puedes intentar evaluar las estrategias de acción y el comportamiento de las poblaciones, construyendo un clasificador binario. \n",
        "1. Elige una categoría binaria que hable de políticas públicas elegidas por los países para enfrentar la pandemia que te interese estudiar, como pueden ser \"la población hizo cuarententa\" o \"la población se vacunó\".\n",
        "2. Piensa qué indicadores de la curva pueden hablar del éxito de la política que quieres estudiar. Por ejemplo, si se tratase de evaluar el éxito de una cuarentena podría ser porcentaje de población  que se contagió o variación del valor de $k$ a partir de que se empezó a implementar esa medida. Elige al menos 3 indicadores.\n",
        "3. Investiga sobre países que hayan aplicado o no esa política pública, para generar una base de datos. Por ejemplo, Brasil no hizo cuarentena y China hizo una muy estricta. Recuerda hacer una selección inteligente de la porción de datos de la curva de cada país que vas a analizar.\n",
        "4. Construye un clasificador binario a partir de una regresión logística o usando Naive Bayes para intentar analizar la estrategia de otros países y ver si es posible predecirla a partir de la curva de contagios y el clasificador. Un posible clasificador binario es uno que clasifique el porcentaje de contagios en función da las categorías \"la población hizo cuarentena\" y \"la población n hizo cuarentena\". Haz esto para los 3 indicadores que elegiste en el punto 3 y compara los resultados.\n",
        "5. Elabora un informe con lo que hayas aprendido a lo largo de este proyecto, donde discutas la utilidad o no de los indicadores que elegiste y del análisis estadístico propuesto.\n",
        "\n",
        "#¡Comencemos!\n",
        "\n",
        "  A continuación dejamos un ejemplo de cómo extraer el $k$ inicial de Argentina, usando un ajuste de cuadrados mínimos. Si necesitas los datos mundiales, en la columna de países aparecen como \"World\".\n",
        "\n"
      ]
    },
    {
      "cell_type": "code",
      "metadata": {
        "id": "EeoJPP0uVEdB"
      },
      "source": [
        "import numpy as np\n",
        "import pandas as pd\n",
        "import pylab as plt\n",
        "from google.colab import drive\n",
        "from scipy.optimize import curve_fit"
      ],
      "execution_count": null,
      "outputs": []
    },
    {
      "cell_type": "code",
      "metadata": {
        "colab": {
          "base_uri": "https://localhost:8080/"
        },
        "id": "aR3RjqhnVLRB",
        "outputId": "e843ee29-a24c-4844-bbd0-2d57f62822a9"
      },
      "source": [
        "#cargamos los datos\n",
        "\n",
        "drive.mount('/content/gdrive', force_remount=True)\n",
        "\n",
        "# Aca deben apuntar a la carpeta de su drive donde guardaron los datos\n",
        "root_dir = \"/content/gdrive/My Drive/datos_acamica\"\n"
      ],
      "execution_count": null,
      "outputs": [
        {
          "output_type": "stream",
          "text": [
            "Mounted at /content/gdrive\n"
          ],
          "name": "stdout"
        }
      ]
    },
    {
      "cell_type": "code",
      "metadata": {
        "colab": {
          "base_uri": "https://localhost:8080/",
          "height": 424
        },
        "id": "xvuX_32HXxK0",
        "outputId": "39742517-30e2-4d78-cba0-78a57ca57a07"
      },
      "source": [
        "datos=pd.read_csv('/content/gdrive/My Drive/datos_acamica/datos_covid.csv')\n",
        "datos"
      ],
      "execution_count": null,
      "outputs": [
        {
          "output_type": "execute_result",
          "data": {
            "text/html": [
              "<div>\n",
              "<style scoped>\n",
              "    .dataframe tbody tr th:only-of-type {\n",
              "        vertical-align: middle;\n",
              "    }\n",
              "\n",
              "    .dataframe tbody tr th {\n",
              "        vertical-align: top;\n",
              "    }\n",
              "\n",
              "    .dataframe thead th {\n",
              "        text-align: right;\n",
              "    }\n",
              "</style>\n",
              "<table border=\"1\" class=\"dataframe\">\n",
              "  <thead>\n",
              "    <tr style=\"text-align: right;\">\n",
              "      <th></th>\n",
              "      <th>Entity</th>\n",
              "      <th>Code</th>\n",
              "      <th>Day</th>\n",
              "      <th>total_tests</th>\n",
              "      <th>142601-annotations</th>\n",
              "      <th>Total confirmed deaths due to COVID-19</th>\n",
              "      <th>Total confirmed cases of COVID-19</th>\n",
              "    </tr>\n",
              "  </thead>\n",
              "  <tbody>\n",
              "    <tr>\n",
              "      <th>0</th>\n",
              "      <td>Afghanistan</td>\n",
              "      <td>AFG</td>\n",
              "      <td>2020-03-22</td>\n",
              "      <td>NaN</td>\n",
              "      <td>NaN</td>\n",
              "      <td>1.0</td>\n",
              "      <td>34.0</td>\n",
              "    </tr>\n",
              "    <tr>\n",
              "      <th>1</th>\n",
              "      <td>Afghanistan</td>\n",
              "      <td>AFG</td>\n",
              "      <td>2020-03-23</td>\n",
              "      <td>NaN</td>\n",
              "      <td>NaN</td>\n",
              "      <td>1.0</td>\n",
              "      <td>41.0</td>\n",
              "    </tr>\n",
              "    <tr>\n",
              "      <th>2</th>\n",
              "      <td>Afghanistan</td>\n",
              "      <td>AFG</td>\n",
              "      <td>2020-03-24</td>\n",
              "      <td>NaN</td>\n",
              "      <td>NaN</td>\n",
              "      <td>1.0</td>\n",
              "      <td>43.0</td>\n",
              "    </tr>\n",
              "    <tr>\n",
              "      <th>3</th>\n",
              "      <td>Afghanistan</td>\n",
              "      <td>AFG</td>\n",
              "      <td>2020-03-25</td>\n",
              "      <td>NaN</td>\n",
              "      <td>NaN</td>\n",
              "      <td>2.0</td>\n",
              "      <td>76.0</td>\n",
              "    </tr>\n",
              "    <tr>\n",
              "      <th>4</th>\n",
              "      <td>Afghanistan</td>\n",
              "      <td>AFG</td>\n",
              "      <td>2020-03-26</td>\n",
              "      <td>NaN</td>\n",
              "      <td>NaN</td>\n",
              "      <td>3.0</td>\n",
              "      <td>80.0</td>\n",
              "    </tr>\n",
              "    <tr>\n",
              "      <th>...</th>\n",
              "      <td>...</td>\n",
              "      <td>...</td>\n",
              "      <td>...</td>\n",
              "      <td>...</td>\n",
              "      <td>...</td>\n",
              "      <td>...</td>\n",
              "      <td>...</td>\n",
              "    </tr>\n",
              "    <tr>\n",
              "      <th>90703</th>\n",
              "      <td>Zimbabwe</td>\n",
              "      <td>ZWE</td>\n",
              "      <td>2021-05-11</td>\n",
              "      <td>NaN</td>\n",
              "      <td>NaN</td>\n",
              "      <td>1579.0</td>\n",
              "      <td>38448.0</td>\n",
              "    </tr>\n",
              "    <tr>\n",
              "      <th>90704</th>\n",
              "      <td>Zimbabwe</td>\n",
              "      <td>ZWE</td>\n",
              "      <td>2021-05-12</td>\n",
              "      <td>NaN</td>\n",
              "      <td>NaN</td>\n",
              "      <td>1579.0</td>\n",
              "      <td>38466.0</td>\n",
              "    </tr>\n",
              "    <tr>\n",
              "      <th>90705</th>\n",
              "      <td>Zimbabwe</td>\n",
              "      <td>ZWE</td>\n",
              "      <td>2020-03-20</td>\n",
              "      <td>NaN</td>\n",
              "      <td>NaN</td>\n",
              "      <td>NaN</td>\n",
              "      <td>1.0</td>\n",
              "    </tr>\n",
              "    <tr>\n",
              "      <th>90706</th>\n",
              "      <td>Zimbabwe</td>\n",
              "      <td>ZWE</td>\n",
              "      <td>2020-03-21</td>\n",
              "      <td>NaN</td>\n",
              "      <td>NaN</td>\n",
              "      <td>NaN</td>\n",
              "      <td>3.0</td>\n",
              "    </tr>\n",
              "    <tr>\n",
              "      <th>90707</th>\n",
              "      <td>Zimbabwe</td>\n",
              "      <td>ZWE</td>\n",
              "      <td>2020-03-22</td>\n",
              "      <td>NaN</td>\n",
              "      <td>NaN</td>\n",
              "      <td>NaN</td>\n",
              "      <td>3.0</td>\n",
              "    </tr>\n",
              "  </tbody>\n",
              "</table>\n",
              "<p>90708 rows × 7 columns</p>\n",
              "</div>"
            ],
            "text/plain": [
              "            Entity  ... Total confirmed cases of COVID-19\n",
              "0      Afghanistan  ...                              34.0\n",
              "1      Afghanistan  ...                              41.0\n",
              "2      Afghanistan  ...                              43.0\n",
              "3      Afghanistan  ...                              76.0\n",
              "4      Afghanistan  ...                              80.0\n",
              "...            ...  ...                               ...\n",
              "90703     Zimbabwe  ...                           38448.0\n",
              "90704     Zimbabwe  ...                           38466.0\n",
              "90705     Zimbabwe  ...                               1.0\n",
              "90706     Zimbabwe  ...                               3.0\n",
              "90707     Zimbabwe  ...                               3.0\n",
              "\n",
              "[90708 rows x 7 columns]"
            ]
          },
          "metadata": {
            "tags": []
          },
          "execution_count": 38
        }
      ]
    },
    {
      "cell_type": "code",
      "metadata": {
        "id": "avKRmQzGYiMV"
      },
      "source": [
        "paises=datos['Entity'] #cargo el vector de paises\n",
        "confirmados=datos['Total confirmed cases of COVID-19'] #carga vector todos los casos confirmados"
      ],
      "execution_count": null,
      "outputs": []
    },
    {
      "cell_type": "code",
      "metadata": {
        "colab": {
          "base_uri": "https://localhost:8080/",
          "height": 308
        },
        "id": "GZt3IeBaa8pz",
        "outputId": "e53e9d96-639f-4c5f-cb89-9c05d6c5ea63"
      },
      "source": [
        "#seleccionamos China\n",
        "\n",
        "ind_arg=np.where(paises=='Argentina')\n",
        "ind_arg=ind_arg[0]\n",
        "casos_arg=confirmados[ind_arg]\n",
        "dias=np.arange(0,len(casos_arg))\n",
        "plt.plot(dias,casos_arg)\n",
        "plt.xlabel('dias')\n",
        "plt.ylabel('cantidad de casos')"
      ],
      "execution_count": null,
      "outputs": [
        {
          "output_type": "execute_result",
          "data": {
            "text/plain": [
              "Text(0, 0.5, 'cantidad de casos')"
            ]
          },
          "metadata": {
            "tags": []
          },
          "execution_count": 40
        },
        {
          "output_type": "display_data",
          "data": {
            "image/png": "[encoded data removed]",
            "text/plain": [
              "<Figure size 432x288 with 1 Axes>"
            ]
          },
          "metadata": {
            "tags": [],
            "needs_background": "light"
          }
        }
      ]
    },
    {
      "cell_type": "markdown",
      "metadata": {
        "id": "Hz1nUBfxcxOP"
      },
      "source": [
        "Esta es la curva de **casos totales** de la Argentina. Aquí no se ven las olas, ya que estas se ven en la curva de casos confirmados por día, es decir, de casos nuevos. Esta habla de los acumulados, entonces siempre se agregan.\n",
        "\n",
        "Para ver mejor la curva, podemos tomar el logartimo de los datos. Una curva exponencial se ve lineal en escala logarítmica\n"
      ]
    },
    {
      "cell_type": "code",
      "metadata": {
        "colab": {
          "base_uri": "https://localhost:8080/",
          "height": 297
        },
        "id": "F1oMHfLlbpld",
        "outputId": "10131ce1-5737-4690-db36-b26756d0776a"
      },
      "source": [
        "plt.plot(dias,np.log(casos_arg))\n",
        "plt.xlabel('dias')\n",
        "plt.ylabel('log cantidad de casos')"
      ],
      "execution_count": null,
      "outputs": [
        {
          "output_type": "execute_result",
          "data": {
            "text/plain": [
              "Text(0, 0.5, 'log cantidad de casos')"
            ]
          },
          "metadata": {
            "tags": []
          },
          "execution_count": 41
        },
        {
          "output_type": "display_data",
          "data": {
            "image/png": "[encoded data removed]",
            "text/plain": [
              "<Figure size 432x288 with 1 Axes>"
            ]
          },
          "metadata": {
            "tags": [],
            "needs_background": "light"
          }
        }
      ]
    },
    {
      "cell_type": "markdown",
      "metadata": {
        "id": "GQjQUh9QeKZl"
      },
      "source": [
        "Veamos lo que pasa en los primeros 60 días desde que se detectó el primer caso en Argentina, para ver cómo fue el $k$ inicial"
      ]
    },
    {
      "cell_type": "code",
      "metadata": {
        "colab": {
          "base_uri": "https://localhost:8080/",
          "height": 297
        },
        "id": "p0MBIAOldeSs",
        "outputId": "6a196767-3eee-4ddc-9e22-f5487b599843"
      },
      "source": [
        "casos_principio=casos_arg[0:60]\n",
        "dias_principio=dias[0:60]\n",
        "\n",
        "plt.plot(dias_principio,casos_principio)\n",
        "plt.xlabel('dias')\n",
        "plt.ylabel('cantidad de casos')"
      ],
      "execution_count": null,
      "outputs": [
        {
          "output_type": "execute_result",
          "data": {
            "text/plain": [
              "Text(0, 0.5, 'cantidad de casos')"
            ]
          },
          "metadata": {
            "tags": []
          },
          "execution_count": 42
        },
        {
          "output_type": "display_data",
          "data": {
            "image/png": "[encoded data removed]",
            "text/plain": [
              "<Figure size 432x288 with 1 Axes>"
            ]
          },
          "metadata": {
            "tags": [],
            "needs_background": "light"
          }
        }
      ]
    },
    {
      "cell_type": "markdown",
      "metadata": {
        "id": "u2b-yQziemV1"
      },
      "source": [
        "Es difícil determinar si esta parte es exponencial. Analicemos qué pasa en escala logarítmica."
      ]
    },
    {
      "cell_type": "code",
      "metadata": {
        "colab": {
          "base_uri": "https://localhost:8080/",
          "height": 297
        },
        "id": "ibBhO71Vehld",
        "outputId": "bd35de8b-b7de-4c35-c4e6-f8a408ece3b7"
      },
      "source": [
        "\n",
        "plt.plot(dias_principio,np.log(casos_principio))\n",
        "plt.xlabel('dias')\n",
        "plt.ylabel('log cantidad de casos')"
      ],
      "execution_count": null,
      "outputs": [
        {
          "output_type": "execute_result",
          "data": {
            "text/plain": [
              "Text(0, 0.5, 'log cantidad de casos')"
            ]
          },
          "metadata": {
            "tags": []
          },
          "execution_count": 43
        },
        {
          "output_type": "display_data",
          "data": {
            "image/png": "[encoded data removed]",
            "text/plain": [
              "<Figure size 432x288 with 1 Axes>"
            ]
          },
          "metadata": {
            "tags": [],
            "needs_background": "light"
          }
        }
      ]
    },
    {
      "cell_type": "markdown",
      "metadata": {
        "id": "tagPxpI4e228"
      },
      "source": [
        "Mejor nos quedamos con lo que sucede entre los días 31 y 55, ya que ese fue el comportamiento más sostenido."
      ]
    },
    {
      "cell_type": "code",
      "metadata": {
        "colab": {
          "base_uri": "https://localhost:8080/",
          "height": 297
        },
        "id": "QoSvN6UPe0Sx",
        "outputId": "def57826-40d8-4925-8f06-0324d1fefe47"
      },
      "source": [
        "casos_principio=casos_arg[31:55]\n",
        "dias_principio=dias[31:55]\n",
        "\n",
        "plt.plot(dias_principio,casos_principio)\n",
        "plt.xlabel('dias')\n",
        "plt.ylabel('cantidad de casos')"
      ],
      "execution_count": null,
      "outputs": [
        {
          "output_type": "execute_result",
          "data": {
            "text/plain": [
              "Text(0, 0.5, 'cantidad de casos')"
            ]
          },
          "metadata": {
            "tags": []
          },
          "execution_count": 44
        },
        {
          "output_type": "display_data",
          "data": {
            "image/png": "[encoded data removed]",
            "text/plain": [
              "<Figure size 432x288 with 1 Axes>"
            ]
          },
          "metadata": {
            "tags": [],
            "needs_background": "light"
          }
        }
      ]
    },
    {
      "cell_type": "code",
      "metadata": {
        "colab": {
          "base_uri": "https://localhost:8080/",
          "height": 297
        },
        "id": "jocr_PfQfDB5",
        "outputId": "2eae8236-c0ad-484c-c4e3-52328838139d"
      },
      "source": [
        "plt.plot(dias_principio,np.log(casos_principio))\n",
        "plt.xlabel('dias')\n",
        "plt.ylabel('log cantidad de casos')"
      ],
      "execution_count": null,
      "outputs": [
        {
          "output_type": "execute_result",
          "data": {
            "text/plain": [
              "Text(0, 0.5, 'log cantidad de casos')"
            ]
          },
          "metadata": {
            "tags": []
          },
          "execution_count": 45
        },
        {
          "output_type": "display_data",
          "data": {
            "image/png": "[encoded data removed]",
            "text/plain": [
              "<Figure size 432x288 with 1 Axes>"
            ]
          },
          "metadata": {
            "tags": [],
            "needs_background": "light"
          }
        }
      ]
    },
    {
      "cell_type": "markdown",
      "metadata": {
        "id": "CV3RQ4L1f95c"
      },
      "source": [
        "¡Se ve bastante lineal! Aprovechemos esto para averiguar el $k$ utilizando un ajuste hecho con el método de cuadrados mínimos, ajustando los datos al modelo \n",
        "\n",
        "$Confirmados=e^{k(t-t_0)}$\n",
        "\n"
      ]
    },
    {
      "cell_type": "code",
      "metadata": {
        "id": "L4b5BB9lfyTQ"
      },
      "source": [
        "#definimos función para ajustar modelo\n",
        "def exponencial(t,k,t0):\n",
        "  C=np.exp(k*(t-t0))\n",
        "  return C"
      ],
      "execution_count": null,
      "outputs": []
    },
    {
      "cell_type": "code",
      "metadata": {
        "colab": {
          "base_uri": "https://localhost:8080/"
        },
        "id": "qJF6X5lHh6_K",
        "outputId": "edbc55cb-a496-4006-c533-bc325d67cbc9"
      },
      "source": [
        "#ajustamos\n",
        "popt, pcov = curve_fit(exponencial, dias_principio, casos_principio)\n",
        "popt"
      ],
      "execution_count": null,
      "outputs": [
        {
          "output_type": "execute_result",
          "data": {
            "text/plain": [
              "array([ 0.16878142, 13.72094025])"
            ]
          },
          "metadata": {
            "tags": []
          },
          "execution_count": 47
        }
      ]
    },
    {
      "cell_type": "markdown",
      "metadata": {
        "id": "Or4MYGHtiZzR"
      },
      "source": [
        "Veamos cómo se ajusta lo que obtuvimos a los datos reales"
      ]
    },
    {
      "cell_type": "code",
      "metadata": {
        "colab": {
          "base_uri": "https://localhost:8080/",
          "height": 283
        },
        "id": "wzBgxnf4iQqq",
        "outputId": "06821748-c800-4f0c-c3b0-76000cc28f2e"
      },
      "source": [
        "k=popt[0]\n",
        "t0=popt[1]\n",
        "casos_simu=exponencial(dias_principio,k,t0)\n",
        "plt.plot(dias_principio,casos_principio,'.')\n",
        "plt.plot(dias_principio,casos_simu)"
      ],
      "execution_count": null,
      "outputs": [
        {
          "output_type": "execute_result",
          "data": {
            "text/plain": [
              "[<matplotlib.lines.Line2D at 0x7fd3c5a17e10>]"
            ]
          },
          "metadata": {
            "tags": []
          },
          "execution_count": 48
        },
        {
          "output_type": "display_data",
          "data": {
            "image/png": "[encoded data removed]",
            "text/plain": [
              "<Figure size 432x288 with 1 Axes>"
            ]
          },
          "metadata": {
            "tags": [],
            "needs_background": "light"
          }
        }
      ]
    },
    {
      "cell_type": "markdown",
      "metadata": {
        "id": "zt24DRvS2fg2"
      },
      "source": [
        "Como última pista, hagamos una función que determine los casos nuevos por día a partir de estas curvas. Puede ser útil para tu análisis."
      ]
    },
    {
      "cell_type": "code",
      "metadata": {
        "id": "losUiyh6iw-N"
      },
      "source": [
        "def casos_nuevos(casos):\n",
        "  nuevos=np.zeros(len(casos))\n",
        "  i=0\n",
        "  while i<len(nuevos)-1:\n",
        "    nuevos[i]=casos[i+1]-casos[i]\n",
        "    i=i+1\n",
        "\n",
        "  return nuevos   "
      ],
      "execution_count": null,
      "outputs": []
    },
    {
      "cell_type": "code",
      "metadata": {
        "colab": {
          "base_uri": "https://localhost:8080/",
          "height": 283
        },
        "id": "9a7ZdG652-uC",
        "outputId": "9fde423a-5c04-4197-a596-0808954f12f6"
      },
      "source": [
        "casos_arg=np.array(casos_arg)\n",
        "nuevos_arg=casos_nuevos(casos_arg)\n",
        "plt.plot(nuevos_arg)"
      ],
      "execution_count": null,
      "outputs": [
        {
          "output_type": "execute_result",
          "data": {
            "text/plain": [
              "[<matplotlib.lines.Line2D at 0x7fd3c5d44810>]"
            ]
          },
          "metadata": {
            "tags": []
          },
          "execution_count": 57
        },
        {
          "output_type": "display_data",
          "data": {
            "image/png": "[encoded data removed]",
            "text/plain": [
              "<Figure size 432x288 with 1 Axes>"
            ]
          },
          "metadata": {
            "tags": [],
            "needs_background": "light"
          }
        }
      ]
    },
    {
      "cell_type": "code",
      "metadata": {
        "id": "eHJ2ZF_Y3O6A"
      },
      "source": [
        ""
      ],
      "execution_count": null,
      "outputs": []
    }
  ]
}